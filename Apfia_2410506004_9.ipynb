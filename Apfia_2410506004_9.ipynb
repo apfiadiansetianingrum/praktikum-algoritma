{
  "nbformat": 4,
  "nbformat_minor": 0,
  "metadata": {
    "colab": {
      "provenance": [],
      "authorship_tag": "ABX9TyNe8iyf/8gYdcwf/uNCvdI5",
      "include_colab_link": true
    },
    "kernelspec": {
      "name": "python3",
      "display_name": "Python 3"
    },
    "language_info": {
      "name": "python"
    }
  },
  "cells": [
    {
      "cell_type": "markdown",
      "metadata": {
        "id": "view-in-github",
        "colab_type": "text"
      },
      "source": [
        "<a href=\"https://colab.research.google.com/github/apfiadiansetianingrum/praktikum-algoritma/blob/master/Apfia_2410506004_9.ipynb\" target=\"_parent\"><img src=\"https://colab.research.google.com/assets/colab-badge.svg\" alt=\"Open In Colab\"/></a>"
      ]
    },
    {
      "cell_type": "code",
      "execution_count": 2,
      "metadata": {
        "colab": {
          "base_uri": "https://localhost:8080/"
        },
        "id": "DC2i7nQGG2zK",
        "outputId": "e5f6b73a-70c8-449d-85d2-bebee52eb6e5"
      },
      "outputs": [
        {
          "output_type": "stream",
          "name": "stdout",
          "text": [
            "Nama: Apfia Dian Setianingrum\n",
            "Kelas: Rombel 1\n",
            "Tanggal_lahir: 22 Mei 2006\n",
            "No_hp: 081342884640\n",
            "Alamat: Mungkidan, Danurejo, Mertoyudan\n",
            "Hobi:\n",
            "  1. Membaca\n",
            "  2. Bermain game\n",
            "  3. Scroll tiktok\n"
          ]
        }
      ],
      "source": [
        "data1 = {\n",
        "    \"Nama\": \"Apfia Dian Setianingrum\",\n",
        "    \"Kelas\": \"Rombel 1\",\n",
        "    \"Tanggal_lahir\": \"22 Mei 2006\",\n",
        "    \"No_hp\": \"081342884640\",\n",
        "    \"Alamat\": \"Mungkidan, Danurejo, Mertoyudan\",\n",
        "    \"Hobi\": [\"Membaca\", \"Bermain game\", \"Scroll tiktok\"]\n",
        "}\n",
        "\n",
        "for key, value in data1.items():\n",
        "    if isinstance(value, list):\n",
        "        print(f\"{key.capitalize()}:\")\n",
        "        for i, hobi in enumerate(value, start=1):\n",
        "            print(f\"  {i}. {hobi}\")\n",
        "    else:\n",
        "        print(f\"{key.capitalize()}: {value}\")\n"
      ]
    },
    {
      "cell_type": "code",
      "source": [
        "my_list = [1, 2, 3, 4]\n",
        "my_tuple = (1, 2, 3, 4)\n",
        "my_set = {1, 2, 3, 4}\n",
        "my_dict = {'nama': 'fia', 'usia': 18}"
      ],
      "metadata": {
        "id": "8PzUO5VwOTUJ"
      },
      "execution_count": 4,
      "outputs": []
    }
  ]
}