{
  "nbformat": 4,
  "nbformat_minor": 0,
  "metadata": {
    "colab": {
      "provenance": [],
      "authorship_tag": "ABX9TyMXxzAJTUDbikyPU4wP7V9I",
      "include_colab_link": true
    },
    "kernelspec": {
      "name": "python3",
      "display_name": "Python 3"
    },
    "language_info": {
      "name": "python"
    }
  },
  "cells": [
    {
      "cell_type": "markdown",
      "metadata": {
        "id": "view-in-github",
        "colab_type": "text"
      },
      "source": [
        "<a href=\"https://colab.research.google.com/github/apfiadiansetianingrum/praktikum-algoritma/blob/master/Apfia_2410506004_5.ipynb\" target=\"_parent\"><img src=\"https://colab.research.google.com/assets/colab-badge.svg\" alt=\"Open In Colab\"/></a>"
      ]
    },
    {
      "cell_type": "code",
      "execution_count": null,
      "metadata": {
        "colab": {
          "base_uri": "https://localhost:8080/"
        },
        "id": "8ctBp0Ymkwrg",
        "outputId": "353d726e-4752-41c8-eee9-bb6c437762c6"
      },
      "outputs": [
        {
          "output_type": "stream",
          "name": "stdout",
          "text": [
            "The number is positive\n"
          ]
        }
      ],
      "source": [
        "num = 5\n",
        "\n",
        "if num> 0:\n",
        "    print('The number is positive')\n",
        "else:\n",
        "    if num < 0:\n",
        "        print('the  umber is negative')\n",
        "    else:\n",
        "        print('the number is zero')"
      ]
    },
    {
      "cell_type": "code",
      "source": [
        "age = 18\n",
        "\n",
        "if age >= 60:\n",
        "    print('you are senior citizen')\n",
        "else:\n",
        "    if age >= 18:\n",
        "        print('you are am adult')\n",
        "    else:\n",
        "        print('you are a teenager')"
      ],
      "metadata": {
        "colab": {
          "base_uri": "https://localhost:8080/"
        },
        "id": "4gOA_QsgmZtX",
        "outputId": "d8058939-2bf3-4c99-d8cf-0afcb80b8f51"
      },
      "execution_count": null,
      "outputs": [
        {
          "output_type": "stream",
          "name": "stdout",
          "text": [
            "you are am adult\n"
          ]
        }
      ]
    },
    {
      "cell_type": "code",
      "source": [
        "#we1\n",
        "\n",
        "tahun = int(input('masukkan tahun: '))\n",
        "\n",
        "if tahun % 4 == 0:\n",
        "  print('tahun kabisat')\n",
        "else:\n",
        "  print('bukan tahun kabisat')"
      ],
      "metadata": {
        "colab": {
          "base_uri": "https://localhost:8080/"
        },
        "id": "kXIjFQdhm9o-",
        "outputId": "f4e89792-98ed-4d5d-c981-2cbbb99d787e"
      },
      "execution_count": 1,
      "outputs": [
        {
          "output_type": "stream",
          "name": "stdout",
          "text": [
            "masukkan tahun: 2024\n",
            "tahun kabisat\n"
          ]
        }
      ]
    },
    {
      "cell_type": "code",
      "source": [
        "#we2\n",
        "\n",
        "#input 3 angka\n",
        "a = int(input('masukkan angka pertama: '))\n",
        "b = int(input('masukkan angka kedua: '))\n",
        "c = int(input('masukkan angka ketiga: '))\n",
        "\n",
        "#cek angka terbesar\n",
        "if a > b and a > c:\n",
        "  print(f'{a} merupakan angka terbesar')\n",
        "elif b > a and b > c:\n",
        "  print(f'{b} merupakan angka terbesar')\n",
        "else:\n",
        "  print(f'{c} merupakan angka terbesar')"
      ],
      "metadata": {
        "colab": {
          "base_uri": "https://localhost:8080/"
        },
        "id": "yKy-4s2No-WZ",
        "outputId": "b7675502-fb17-4c70-9f06-0137b5cdbc62"
      },
      "execution_count": 3,
      "outputs": [
        {
          "output_type": "stream",
          "name": "stdout",
          "text": [
            "masukkan angka pertama: 39\n",
            "masukkan angka kedua: 53\n",
            "masukkan angka ketiga: 74\n",
            "74 merupakan angka terbesar\n"
          ]
        }
      ]
    },
    {
      "cell_type": "code",
      "source": [
        "#we3\n",
        "\n",
        "jenis = input('jenis konsumen : ')\n",
        "belanja = float(input('total belanja : '))\n",
        "\n",
        "if belanja > 100.000:\n",
        "  diskon = 0.03\n",
        "  if jenis == 'member':\n",
        "    diskon +=0.02\n",
        "elif belanja > 200.000:\n",
        "  diskon = 0.04\n",
        "  if jenis == \"member\":\n",
        "    diskon += 0.02\n",
        "\n",
        "totalbelanja = belanja-belanja*diskon\n",
        "print(f'total yang harus dibayarkan : Rp{totalbelanja:.2f}')\n",
        "\n"
      ],
      "metadata": {
        "id": "HXzOHLcgs3SL",
        "colab": {
          "base_uri": "https://localhost:8080/"
        },
        "outputId": "73357f6a-5f9a-4411-db9d-3b4a5990dfbe"
      },
      "execution_count": 8,
      "outputs": [
        {
          "output_type": "stream",
          "name": "stdout",
          "text": [
            "jenis konsumen : nonmember\n",
            "total belanja : 250000\n",
            "total yang harus dibayarkan : Rp242500.00\n"
          ]
        }
      ]
    },
    {
      "cell_type": "code",
      "source": [
        "a#we4\n",
        "\n",
        "username = input('masukkan username: ')\n",
        "email = input('masukkan email: ')\n",
        "password = input('masukkan password: ')\n",
        "\n",
        "if len(username) == 0:\n",
        "  print('username tidak boleh kosong')\n",
        "else:\n",
        "  if '@' not in email:\n",
        "    print('alamat email tidak valid')\n",
        "  else:\n",
        "    if len(password) < 8:\n",
        "      print('password harus memiliki minimal 8 karakter')\n",
        "    else:\n",
        "      print('registrasi berhasil')\n",
        "      print('username:', username)\n",
        "      print('email:', email)\n",
        "      print('password:', password)"
      ],
      "metadata": {
        "colab": {
          "base_uri": "https://localhost:8080/"
        },
        "id": "FN3BeTm85HsW",
        "outputId": "7c404507-001f-490a-d309-f84365b4a761"
      },
      "execution_count": 12,
      "outputs": [
        {
          "output_type": "stream",
          "name": "stdout",
          "text": [
            "masukkan username: apfia\n",
            "masukkan email: apfia@gmail.com\n",
            "masukkan password: 12345\n",
            "password harus memiliki minimal 8 karakter\n"
          ]
        }
      ]
    }
  ]
}