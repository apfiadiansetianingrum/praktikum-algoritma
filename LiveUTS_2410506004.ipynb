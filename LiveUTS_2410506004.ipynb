{
  "nbformat": 4,
  "nbformat_minor": 0,
  "metadata": {
    "colab": {
      "provenance": [],
      "authorship_tag": "ABX9TyNIAXhOaqdyPJiAS/93Wjx7",
      "include_colab_link": true
    },
    "kernelspec": {
      "name": "python3",
      "display_name": "Python 3"
    },
    "language_info": {
      "name": "python"
    }
  },
  "cells": [
    {
      "cell_type": "markdown",
      "metadata": {
        "id": "view-in-github",
        "colab_type": "text"
      },
      "source": [
        "<a href=\"https://colab.research.google.com/github/apfiadiansetianingrum/praktikum-algoritma/blob/master/LiveUTS_2410506004.ipynb\" target=\"_parent\"><img src=\"https://colab.research.google.com/assets/colab-badge.svg\" alt=\"Open In Colab\"/></a>"
      ]
    },
    {
      "cell_type": "code",
      "source": [
        "npm = input('masukkan npm anda: ')\n",
        "jumlah_genap = 0\n",
        "jumlah_ganjil = 0\n",
        "\n",
        "for angka in npm:\n",
        "  if int (angka) % 2 == 0:\n",
        "      jumlah_genap += 1\n",
        "  else:\n",
        "      jumlah_ganjil += 1\n",
        "\n",
        "print(f'jumlah angka genap: {jumlah_genap}')\n",
        "print(f'jumlah angka ganjil: {jumlah_ganjil}')"
      ],
      "metadata": {
        "colab": {
          "base_uri": "https://localhost:8080/"
        },
        "id": "l6AdanzZuTHF",
        "outputId": "c72d8a6a-1c62-499b-a9a1-9f1293d62f19"
      },
      "execution_count": null,
      "outputs": [
        {
          "output_type": "stream",
          "name": "stdout",
          "text": [
            "masukkan npm anda: 2410506004\n",
            "jumlah angka genap: 8\n",
            "jumlah angka ganjil: 2\n"
          ]
        }
      ]
    }
  ]
}