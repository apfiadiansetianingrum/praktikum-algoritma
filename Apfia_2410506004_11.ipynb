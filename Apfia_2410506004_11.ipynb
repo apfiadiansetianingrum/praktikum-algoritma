{
  "nbformat": 4,
  "nbformat_minor": 0,
  "metadata": {
    "colab": {
      "provenance": [],
      "mount_file_id": "1ApQqDMvlhJaeHQAqNkLcyH2m-sa0JctI",
      "authorship_tag": "ABX9TyOfx/DAtYD3+Ya1U4LZSRrE",
      "include_colab_link": true
    },
    "kernelspec": {
      "name": "python3",
      "display_name": "Python 3"
    },
    "language_info": {
      "name": "python"
    }
  },
  "cells": [
    {
      "cell_type": "markdown",
      "metadata": {
        "id": "view-in-github",
        "colab_type": "text"
      },
      "source": [
        "<a href=\"https://colab.research.google.com/github/apfiadiansetianingrum/praktikum-algoritma/blob/master/Apfia_2410506004_11.ipynb\" target=\"_parent\"><img src=\"https://colab.research.google.com/assets/colab-badge.svg\" alt=\"Open In Colab\"/></a>"
      ]
    },
    {
      "cell_type": "code",
      "source": [
        "import math\n",
        "pi = math.pi\n",
        "\n",
        "def luas_lingkaran(jarijari):\n",
        "  return pi * jarijari ** 2\n",
        "\n",
        "def luas_persegi(sisi):\n",
        "  return sisi * sisi\n"
      ],
      "metadata": {
        "id": "sqlZQbp2FTJx"
      },
      "execution_count": null,
      "outputs": []
    },
    {
      "cell_type": "code",
      "source": [
        "import matematika\n",
        "\n",
        "radius = float(input(\"Masukkan radius lingkaran: \"))\n",
        "luas_lingkaran = matematika.luas_lingkaran(radius)\n",
        "print(f\"Luas lingkaran dengan radius {radius} adalah {luas_lingkaran}\")\n",
        "\n",
        "sisi = float(input(\"Masukkan panjang sisi persegi: \"))\n",
        "luas_persegi = matematika.luas_persegi(sisi)\n",
        "print(f\"Luas persegi dengan sisi {sisi} adalah {luas_persegi}\")\n"
      ],
      "metadata": {
        "id": "zG6-ZczIHbmJ",
        "colab": {
          "base_uri": "https://localhost:8080/"
        },
        "outputId": "1a205bbd-f4c5-4c08-9afb-05abdec1d6cf"
      },
      "execution_count": 2,
      "outputs": [
        {
          "output_type": "stream",
          "name": "stdout",
          "text": [
            "Masukkan radius lingkaran: 7\n",
            "Luas lingkaran dengan radius 7.0 adalah 153.93804002589985\n",
            "Masukkan panjang sisi persegi: 4\n",
            "Luas persegi dengan sisi 4.0 adalah 16.0\n"
          ]
        }
      ]
    },
    {
      "cell_type": "code",
      "source": [
        "#5 fungsi module math\n",
        "import math\n",
        "\n",
        "#fungsi pangkat\n",
        "basis = float(input(\"Masukkan angka basic: \"))\n",
        "eksponen = float(input(\"Masukkan angka eksponen: \"))\n",
        "hasil_pangkat = math.pow(basis, eksponen)\n",
        "print(f\"{basis} pangkat {eksponen} adalah {hasil_pangkat}\")\n",
        "\n",
        "#fungsi akar\n",
        "angka = float(input(\"Masukkan angka yang akan diakarkan: \"))\n",
        "hasil_akar = math.sqrt(angka)\n",
        "print(f\"Akar kuadrat dari {angka} adalah {hasil_akar}\")\n",
        "\n",
        "#fungsi faktorial\n",
        "angka_faktorial = int(input(\"Masukkan angka yang difaktorkan: \"))\n",
        "hasil_faktorial = math.factorial(angka_faktorial)\n",
        "print(f\"Faktorial dari {angka_faktorial} adalah {hasil_faktorial}\")\n",
        "\n",
        "#fungsi pembulatan ke atas\n",
        "angka1 = float(input(\"Masukkan angka untuk dibulatkan keatas: \"))\n",
        "hasil_ceil = math.ceil(angka1)\n",
        "print(f\"Pembulatan ke atas dari {angka1} adalah {hasil_ceil}\")\n",
        "\n",
        "#fungsi pembulatan ke bawah\n",
        "angka2 = float(input(\"Masukkan angka untuk dibulatkan kebawah: \"))\n",
        "hasil_floor = math.floor(angka2)\n",
        "print(f\"Pembulatan ke bawah dari {angka2} adalah {hasil_floor}\")"
      ],
      "metadata": {
        "colab": {
          "base_uri": "https://localhost:8080/"
        },
        "id": "VUHu9VkICH-n",
        "outputId": "01db8a5a-b139-4821-82ea-c9f0adf8dbce"
      },
      "execution_count": 7,
      "outputs": [
        {
          "output_type": "stream",
          "name": "stdout",
          "text": [
            "Masukkan angka basic: 3\n",
            "Masukkan angka eksponen: 3\n",
            "3.0 pangkat 3.0 adalah 27.0\n",
            "Masukkan angka yang akan diakarkan: 81\n",
            "Akar kuadrat dari 81.0 adalah 9.0\n",
            "Masukkan angka yang difaktorkan: 5\n",
            "Faktorial dari 5 adalah 120\n",
            "Masukkan angka untuk dibulatkan keatas: 5.4\n",
            "Pembulatan ke atas dari 5.4 adalah 6\n",
            "Masukkan angka untuk dibulatkan kebawah: 9.7\n",
            "Pembulatan ke bawah dari 9.7 adalah 9\n"
          ]
        }
      ]
    }
  ]
}