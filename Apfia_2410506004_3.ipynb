{
  "nbformat": 4,
  "nbformat_minor": 0,
  "metadata": {
    "colab": {
      "provenance": [],
      "authorship_tag": "ABX9TyP587R49R7X9Q28/N2k7lNN",
      "include_colab_link": true
    },
    "kernelspec": {
      "name": "python3",
      "display_name": "Python 3"
    },
    "language_info": {
      "name": "python"
    }
  },
  "cells": [
    {
      "cell_type": "markdown",
      "metadata": {
        "id": "view-in-github",
        "colab_type": "text"
      },
      "source": [
        "<a href=\"https://colab.research.google.com/github/apfiadiansetianingrum/praktikum-algoritma/blob/master/Apfia_2410506004_3.ipynb\" target=\"_parent\"><img src=\"https://colab.research.google.com/assets/colab-badge.svg\" alt=\"Open In Colab\"/></a>"
      ]
    },
    {
      "cell_type": "code",
      "execution_count": null,
      "metadata": {
        "colab": {
          "base_uri": "https://localhost:8080/"
        },
        "id": "R447abX-2vYr",
        "outputId": "86fde5ac-052b-473d-a9b3-5cc8d0a6e8f8"
      },
      "outputs": [
        {
          "output_type": "stream",
          "name": "stdout",
          "text": [
            "Collecting wget\n",
            "  Downloading wget-3.2.zip (10 kB)\n",
            "  Preparing metadata (setup.py) ... \u001b[?25l\u001b[?25hdone\n",
            "Building wheels for collected packages: wget\n",
            "  Building wheel for wget (setup.py) ... \u001b[?25l\u001b[?25hdone\n",
            "  Created wheel for wget: filename=wget-3.2-py3-none-any.whl size=9656 sha256=2dbc98cde3f93d470426d835c4b531254764b60daebf0064697311908fffd4b3\n",
            "  Stored in directory: /root/.cache/pip/wheels/8b/f1/7f/5c94f0a7a505ca1c81cd1d9208ae2064675d97582078e6c769\n",
            "Successfully built wget\n",
            "Installing collected packages: wget\n",
            "Successfully installed wget-3.2\n"
          ]
        }
      ],
      "source": [
        "!pip install wget"
      ]
    },
    {
      "cell_type": "code",
      "source": [
        "# Download Example file\n",
        "!mkdir -p /resources/data\n",
        "!wget -O /resources/data/Biodata1.txt https://s3-api.us-geo.objectstorage.softlayer.net/cf-courses-data/CognitiveClass/PY0101EN/labs/example1.txt"
      ],
      "metadata": {
        "colab": {
          "base_uri": "https://localhost:8080/"
        },
        "id": "GjZKxh-y35Gq",
        "outputId": "69259a3d-c8cb-4c07-a1e3-42effadf24db"
      },
      "execution_count": null,
      "outputs": [
        {
          "output_type": "stream",
          "name": "stdout",
          "text": [
            "--2024-09-06 10:28:20--  https://s3-api.us-geo.objectstorage.softlayer.net/cf-courses-data/CognitiveClass/PY0101EN/labs/example1.txt\n",
            "Resolving s3-api.us-geo.objectstorage.softlayer.net (s3-api.us-geo.objectstorage.softlayer.net)... 67.228.254.196\n",
            "Connecting to s3-api.us-geo.objectstorage.softlayer.net (s3-api.us-geo.objectstorage.softlayer.net)|67.228.254.196|:443... connected.\n",
            "HTTP request sent, awaiting response... 200 OK\n",
            "Length: 45 [text/plain]\n",
            "Saving to: ‘/resources/data/Biodata1.txt’\n",
            "\n",
            "/resources/data/Bio 100%[===================>]      45  --.-KB/s    in 0s      \n",
            "\n",
            "2024-09-06 10:28:20 (30.8 MB/s) - ‘/resources/data/Biodata1.txt’ saved [45/45]\n",
            "\n"
          ]
        }
      ]
    },
    {
      "cell_type": "code",
      "source": [
        "biodata1 = \"/resources/data/Biodata1.txt\"\n",
        "file1 = open(biodata1, \"r\")"
      ],
      "metadata": {
        "id": "BjcU-bDu4LBB"
      },
      "execution_count": null,
      "outputs": []
    },
    {
      "cell_type": "code",
      "source": [
        "file1.name"
      ],
      "metadata": {
        "colab": {
          "base_uri": "https://localhost:8080/",
          "height": 35
        },
        "id": "gs_IvCri4VKa",
        "outputId": "4b843be1-b5c8-4fbe-f942-fbbc0c51b321"
      },
      "execution_count": null,
      "outputs": [
        {
          "output_type": "execute_result",
          "data": {
            "text/plain": [
              "'/resources/data/Biodata1.txt'"
            ],
            "application/vnd.google.colaboratory.intrinsic+json": {
              "type": "string"
            }
          },
          "metadata": {},
          "execution_count": 5
        }
      ]
    },
    {
      "cell_type": "code",
      "source": [
        "FileContent = file1.read()\n",
        "FileContent"
      ],
      "metadata": {
        "colab": {
          "base_uri": "https://localhost:8080/",
          "height": 35
        },
        "id": "g051c1Af4uHa",
        "outputId": "9211d849-81ee-4989-f28a-c841be436b64"
      },
      "execution_count": null,
      "outputs": [
        {
          "output_type": "execute_result",
          "data": {
            "text/plain": [
              "'This is line 1 \\nThis is line 2\\nThis is line 3'"
            ],
            "application/vnd.google.colaboratory.intrinsic+json": {
              "type": "string"
            }
          },
          "metadata": {},
          "execution_count": 7
        }
      ]
    },
    {
      "cell_type": "code",
      "source": [
        "print(FileContent)"
      ],
      "metadata": {
        "colab": {
          "base_uri": "https://localhost:8080/"
        },
        "id": "-08hqwjm5xta",
        "outputId": "6017c23b-07f7-4614-a5a3-83cf9083bb18"
      },
      "execution_count": null,
      "outputs": [
        {
          "output_type": "stream",
          "name": "stdout",
          "text": [
            "This is line 1 \n",
            "This is line 2\n",
            "This is line 3\n"
          ]
        }
      ]
    },
    {
      "cell_type": "code",
      "source": [
        "# membuat file\n",
        "\n",
        "biodata = \"\"\"Nama: Apfia Dian Setianingrum\n",
        "Program Studi: Teknologi Informasi\n",
        "NPM: 2410506004\n",
        "Alamat: Mungkidan, Danurejo, Mertoyudan\n",
        "Hobi: Membaca novel\n",
        "Email: apfiasetianingrum22@gmail.com\n",
        "\"\"\"\n",
        "\n",
        "with open('biodata1.txt', 'w') as file:\n",
        "    file.write(biodata)"
      ],
      "metadata": {
        "id": "HiSKeCQY6FuZ"
      },
      "execution_count": 1,
      "outputs": []
    },
    {
      "cell_type": "code",
      "source": [
        "# Membaca biodata.txt dan menampilkan nama, program studi, dan email\n",
        "with open('biodata1.txt', 'r') as file:\n",
        "    lines = file.readlines()\n",
        "\n",
        "# Mengambil dan menampilkan data yang diperlukan\n",
        "for line in lines:\n",
        "    if line.startswith('Nama:'):\n",
        "        nama = line.strip().split(': ')[1]\n",
        "    elif line.startswith('Program Studi:'):\n",
        "        program_studi = line.strip().split(': ')[1]\n",
        "    elif line.startswith('Email:'):\n",
        "        email = line.strip().split(': ')[1]\n",
        "\n",
        "print(f\"Nama: {nama}\")\n",
        "print(f\"Program Studi: {program_studi}\")\n",
        "print(f\"Email: {email}\")"
      ],
      "metadata": {
        "colab": {
          "base_uri": "https://localhost:8080/"
        },
        "id": "AOB3MCvgSMBe",
        "outputId": "33bf767e-f27a-464c-bd58-83bddbdd9c7f"
      },
      "execution_count": 2,
      "outputs": [
        {
          "output_type": "stream",
          "name": "stdout",
          "text": [
            "Nama: Apfia Dian Setianingrum\n",
            "Program Studi: Teknologi Informasi\n",
            "Email: apfiasetianingrum22@gmail.com\n"
          ]
        }
      ]
    },
    {
      "cell_type": "code",
      "source": [
        "# Membaca biodata1.txt, mengambil data tertentu, dan menyimpan dalam file baru\n",
        "with open('biodata1.txt', 'r') as file:\n",
        "    lines = file.readlines()\n",
        "\n",
        "# Mengambil data yang diperlukan\n",
        "data_to_save = []\n",
        "for line in lines:\n",
        "    if line.startswith('Nama:') or line.startswith('NPM:') or line.startswith('Program Studi:') or line.startswith('Alamat:'):\n",
        "        data_to_save.append(line.strip())\n",
        "\n",
        "# Menyimpan data ke dalam file baru\n",
        "with open('biodata_summary.txt', 'w') as file:\n",
        "    for line in data_to_save:\n",
        "        file.write(line + '\\n')"
      ],
      "metadata": {
        "id": "faXuSQlvSfTO"
      },
      "execution_count": 4,
      "outputs": []
    },
    {
      "cell_type": "code",
      "source": [
        "print(\"Selamat datang di Toko Maju Jaya\")\n",
        "print(\"Senin, 4 September 2023       13.05\")\n",
        "print(\" \")\n",
        "\n",
        "print (\"DAFTAR BELANJA:\")\n",
        "item1 = 'Sabun'\n",
        "item2 = 'Shampo'\n",
        "item3 = 'Mie instant'\n",
        "item4 = 'Detergen'\n",
        "harga1 = 10000\n",
        "harga2 = 15000\n",
        "harga3 = 5000\n",
        "harga4 = 17500\n",
        "\n",
        "total = harga1 + harga2 + harga3 + harga4\n",
        "\n",
        "print(item1 + ' = Rp ' + str(harga1))\n",
        "print(item2 + ' = Rp ' + str(harga2))\n",
        "print(item3 + ' = Rp ' + str(harga3))\n",
        "print(item4 + ' = Rp ' + str(harga4))\n",
        "\n",
        "print(\" \")\n",
        "print(\"Total = Rp \" + str(total))\n",
        "\n",
        "with open('Kuitansi.txt', 'w') as writefile:\n",
        "        writefile.write(\"Selamat Datang di Toko Maju Jaya\\n\")\n",
        "        writefile.write(\" \\n\")\n",
        "        writefile.write(\"Kuitansi - 4 Septermber 2023\\n\")\n",
        "        writefile.write(\" \\n\")\n",
        "        writefile.write(item1 + \" = Rp \" + str(harga1) + \"\\n\")\n",
        "        writefile.write(item2 + \" = Rp \" + str(harga2) + \"\\n\")\n",
        "        writefile.write(item3 + \" = Rp \" + str(harga3) + \"\\n\")\n",
        "        writefile.write(item4 + \" = Rp \" + str(harga4) + \"\\n\")\n",
        "        writefile.write(\" \\n\")\n",
        "        writefile.write(\"Total Belanja = Rp \" + str(total) + \"\\n\")\n",
        "\n"
      ],
      "metadata": {
        "colab": {
          "base_uri": "https://localhost:8080/"
        },
        "id": "81u4sKKGTAd7",
        "outputId": "a4c88562-31b9-44a8-81a0-03f04ad440ac"
      },
      "execution_count": 8,
      "outputs": [
        {
          "output_type": "stream",
          "name": "stdout",
          "text": [
            "Selamat datang di Toko Maju Jaya\n",
            "Senin, 4 September 2023       13.05\n",
            " \n",
            "DAFTAR BELANJA:\n",
            "Sabun = Rp 10000\n",
            "Shampo = Rp 15000\n",
            "Mie instant = Rp 5000\n",
            "Detergen = Rp 17500\n",
            " \n",
            "Total = Rp 47500\n"
          ]
        }
      ]
    }
  ]
}