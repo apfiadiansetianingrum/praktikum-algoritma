{
  "nbformat": 4,
  "nbformat_minor": 0,
  "metadata": {
    "colab": {
      "provenance": [],
      "authorship_tag": "ABX9TyMnHq54WC5LlI3eOtOGYQII",
      "include_colab_link": true
    },
    "kernelspec": {
      "name": "python3",
      "display_name": "Python 3"
    },
    "language_info": {
      "name": "python"
    }
  },
  "cells": [
    {
      "cell_type": "markdown",
      "metadata": {
        "id": "view-in-github",
        "colab_type": "text"
      },
      "source": [
        "<a href=\"https://colab.research.google.com/github/apfiadiansetianingrum/praktikum-algoritma/blob/master/Apfia_2410506004_6.ipynb\" target=\"_parent\"><img src=\"https://colab.research.google.com/assets/colab-badge.svg\" alt=\"Open In Colab\"/></a>"
      ]
    },
    {
      "cell_type": "code",
      "execution_count": null,
      "metadata": {
        "id": "2flckJDKnnGo"
      },
      "outputs": [],
      "source": [
        "#pp"
      ]
    },
    {
      "cell_type": "code",
      "source": [
        "N = int(input(\"masukkan angka: \"))\n",
        "\n",
        "for i in range(1, N + 1):\n",
        "\n",
        "  for j in range(N - 1):\n",
        "    print(\" \", end=\"\")\n",
        "\n",
        "  for j in range(i):\n",
        "    print(\"*\", end=\"\")\n",
        "    if j < i - 1:\n",
        "      print(\" \", end=\"\")\n",
        "\n",
        "  print(\"\")"
      ],
      "metadata": {
        "colab": {
          "base_uri": "https://localhost:8080/"
        },
        "id": "_l4Wl8KYoXh9",
        "outputId": "2355e689-4419-42f2-eb57-08d2d0e3eb1a"
      },
      "execution_count": 1,
      "outputs": [
        {
          "output_type": "stream",
          "name": "stdout",
          "text": [
            "masukkan angka: 5\n",
            "    *\n",
            "    * *\n",
            "    * * *\n",
            "    * * * *\n",
            "    * * * * *\n"
          ]
        }
      ]
    },
    {
      "cell_type": "code",
      "source": [
        "n = int(input(\"masukkan angka: \"))\n",
        "s = n-1\n",
        "for i in range(0, n):\n",
        "  for j in range(0, s):\n",
        "    print(\"\", end=\" \")\n",
        "  s-= 1\n",
        "  for j in range(0, i + 1):\n",
        "    print(\"*\", end=\" \")\n",
        "\n",
        "  print(\"\")"
      ],
      "metadata": {
        "colab": {
          "base_uri": "https://localhost:8080/"
        },
        "id": "FFB3lAaopak9",
        "outputId": "5cf420da-ccfe-4f01-9d43-0577d1d37394"
      },
      "execution_count": 6,
      "outputs": [
        {
          "output_type": "stream",
          "name": "stdout",
          "text": [
            "masukkan angka: 5\n",
            "    * \n",
            "   * * \n",
            "  * * * \n",
            " * * * * \n",
            "* * * * * \n"
          ]
        }
      ]
    },
    {
      "cell_type": "code",
      "source": [
        "n = int(input('masukkan angka: '))\n",
        "\n",
        "for i in range(1, n+1):\n",
        "  for j in range(0, n-i+1):\n",
        "    print(' ',  end='')\n",
        "\n",
        "    C = 1\n",
        "  for j in range(1, i+1):\n",
        "\n",
        "    print(' ', C, sep='', end='')\n",
        "\n",
        "    C =C * (i - j) // j\n",
        "  print()\n"
      ],
      "metadata": {
        "colab": {
          "base_uri": "https://localhost:8080/"
        },
        "id": "K9t7zchkrAgI",
        "outputId": "a5a12558-b5d5-417f-d60c-4bdde10796e3"
      },
      "execution_count": null,
      "outputs": [
        {
          "output_type": "stream",
          "name": "stdout",
          "text": [
            "masukkan angka: 6\n",
            "       1\n",
            "      1 1\n",
            "     1 2 1\n",
            "    1 3 3 1\n",
            "   1 4 6 4 1\n",
            "  1 5 10 10 5 1\n"
          ]
        }
      ]
    },
    {
      "cell_type": "code",
      "source": [
        "baris = int(input('masukkan baris ke: '))\n",
        "if baris < 0 :\n",
        "  print('tidak ada baris dibawah 0')\n",
        "else :\n",
        "  jumlah_baris = 2 ** (baris -1)\n",
        "  print(f'jumlah angka dalam baris ke {baris} adalah {jumlah_baris}')"
      ],
      "metadata": {
        "colab": {
          "base_uri": "https://localhost:8080/"
        },
        "id": "opWJThqzlJ39",
        "outputId": "3e648286-61ab-4fa9-f12e-b80768e9d3cc"
      },
      "execution_count": 5,
      "outputs": [
        {
          "output_type": "stream",
          "name": "stdout",
          "text": [
            "masukkan baris ke: 5\n",
            "jumlah angka dalam baris ke 5 adalah 16\n"
          ]
        }
      ]
    },
    {
      "cell_type": "code",
      "source": [],
      "metadata": {
        "id": "TJT605oEl6gq"
      },
      "execution_count": null,
      "outputs": []
    }
  ]
}