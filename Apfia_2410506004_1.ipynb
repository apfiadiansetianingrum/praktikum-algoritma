{
  "nbformat": 4,
  "nbformat_minor": 0,
  "metadata": {
    "colab": {
      "provenance": [],
      "authorship_tag": "ABX9TyN52wVtlZCXaia7Z5o3OjJA",
      "include_colab_link": true
    },
    "kernelspec": {
      "name": "python3",
      "display_name": "Python 3"
    },
    "language_info": {
      "name": "python"
    }
  },
  "cells": [
    {
      "cell_type": "markdown",
      "metadata": {
        "id": "view-in-github",
        "colab_type": "text"
      },
      "source": [
        "<a href=\"https://colab.research.google.com/github/apfiadiansetianingrum/praktikum-algoritma/blob/master/Apfia_2410506004_1.ipynb\" target=\"_parent\"><img src=\"https://colab.research.google.com/assets/colab-badge.svg\" alt=\"Open In Colab\"/></a>"
      ]
    },
    {
      "cell_type": "code",
      "source": [
        "print('Nama          : Apfia Dian Setianingrum')\n",
        "print('')\n",
        "print('NPM           : 2410506004')\n",
        "print('')\n",
        "print('Alamat        : Mungkidan, Danurejo, Mertoyudan, Kabupaten Magelang')\n",
        "print('')\n",
        "print('Tinggi badan  : 170.0')\n",
        "print('')\n",
        "print('Berat Badan   : 60.0')"
      ],
      "metadata": {
        "colab": {
          "base_uri": "https://localhost:8080/"
        },
        "id": "Ci3bMnCmopHI",
        "outputId": "e08074bb-caa5-443f-90a0-6908a1e70256"
      },
      "execution_count": null,
      "outputs": [
        {
          "output_type": "stream",
          "name": "stdout",
          "text": [
            "Nama          : Apfia Dian Setianingrum\n",
            "\n",
            "NPM           : 2410506004\n",
            "\n",
            "Alamat        : Mungkidan, Danurejo, Mertoyudan, Kabupaten Magelang\n",
            "\n",
            "Tinggi badan  : 170.0\n",
            "\n",
            "Berat Badan   : 60.0\n"
          ]
        }
      ]
    },
    {
      "cell_type": "code",
      "source": [
        "print('\\033[1mUNIVERSITAS TIDAR\\033[0m')\n",
        "print('Universitas Tidar merupakan Perguruan Tinggi Negeri yang telah ditetapkan berdasarkan peraturan pemerintah')\n",
        "print('')\n",
        "print('\\033[1mJURUSAN TEKNIK ELEKTRO, MEKATRONIKA DAN INFORMASI\\033[0m')\n",
        "print('Jurusan Teknik Elektro terdiri atas tiga program studi, antara lain:')\n",
        "print('   1. S1 Teknik Elektro \\x1B[3m(Bachelor of Electrical Engineering)\\x1B[0m')\n",
        "print('   2. S1 Teknologi Informasi \\x1B[3m(Bachelor of Information Technology)\\x1B[0m')\n",
        "print('   3. S1 Teknik Mekatronika \\x1B[3m(Bachelor of Mechatronics Eengineering)\\x1B[0m')"
      ],
      "metadata": {
        "colab": {
          "base_uri": "https://localhost:8080/"
        },
        "id": "1vzntvJ_qlEo",
        "outputId": "1ad09474-5f49-4368-9f46-2ea1286cc8c0"
      },
      "execution_count": null,
      "outputs": [
        {
          "output_type": "stream",
          "name": "stdout",
          "text": [
            "\u001b[1mUNIVERSITAS TIDAR\u001b[0m\n",
            "Universitas Tidar merupakan Perguruan Tinggi Negeri yang telah ditetapkan berdasarkan peraturan pemerintah\n",
            "\n",
            "\u001b[1mJURUSAN TEKNIK ELEKTRO, MEKATRONIKA DAN INFORMASI\u001b[0m\n",
            "Jurusan Teknik Elektro terdiri atas tiga program studi, antara lain:\n",
            "   1. S1 Teknik Elektro \u001b[3m(Bachelor of Electrical Engineering)\u001b[0m\n",
            "   2. S1 Teknologi Informasi \u001b[3m(Bachelor of Information Technology)\u001b[0m\n",
            "   3. S1 Teknik Mekatronika \u001b[3m(Bachelor of Mechatronics Eengineering)\u001b[0m\n"
          ]
        }
      ]
    }
  ]
}