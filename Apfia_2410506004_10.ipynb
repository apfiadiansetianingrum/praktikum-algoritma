{
  "nbformat": 4,
  "nbformat_minor": 0,
  "metadata": {
    "colab": {
      "provenance": [],
      "authorship_tag": "ABX9TyNTPlqyih5S2lCPm4h3UkF2",
      "include_colab_link": true
    },
    "kernelspec": {
      "name": "python3",
      "display_name": "Python 3"
    },
    "language_info": {
      "name": "python"
    }
  },
  "cells": [
    {
      "cell_type": "markdown",
      "metadata": {
        "id": "view-in-github",
        "colab_type": "text"
      },
      "source": [
        "<a href=\"https://colab.research.google.com/github/apfiadiansetianingrum/praktikum-algoritma/blob/master/Apfia_2410506004_10.ipynb\" target=\"_parent\"><img src=\"https://colab.research.google.com/assets/colab-badge.svg\" alt=\"Open In Colab\"/></a>"
      ]
    },
    {
      "cell_type": "code",
      "execution_count": null,
      "metadata": {
        "colab": {
          "base_uri": "https://localhost:8080/"
        },
        "id": "FdlJQoM33pF1",
        "outputId": "6b238ced-ba13-4b78-b9de-d0eacb45665e"
      },
      "outputs": [
        {
          "output_type": "stream",
          "name": "stdout",
          "text": [
            "hello from a function\n"
          ]
        }
      ],
      "source": [
        "def my_function():\n",
        "  print('hello from a function')\n",
        "my_function()"
      ]
    },
    {
      "cell_type": "code",
      "source": [
        "def my_function(fname):\n",
        "  print(fname + ' sitohang')\n",
        "\n",
        "my_function('toha')\n",
        "my_function('tohir')\n",
        "my_function('tobi')"
      ],
      "metadata": {
        "colab": {
          "base_uri": "https://localhost:8080/"
        },
        "id": "MARUooVB4Gy_",
        "outputId": "b282e581-9fc0-48e3-de84-e8fef508ae6b"
      },
      "execution_count": null,
      "outputs": [
        {
          "output_type": "stream",
          "name": "stdout",
          "text": [
            "toha sitohang\n",
            "tohir sitohang\n",
            "tobi sitohang\n"
          ]
        }
      ]
    },
    {
      "cell_type": "code",
      "source": [
        "def my_function(fname, lname):\n",
        "  print(fname + ' ' + lname)\n",
        "\n",
        "my_function('toha', 'sitohang')"
      ],
      "metadata": {
        "colab": {
          "base_uri": "https://localhost:8080/"
        },
        "id": "cJI4sO2n4uGY",
        "outputId": "61fa5f20-d920-4f4b-946d-4753349618e8"
      },
      "execution_count": null,
      "outputs": [
        {
          "output_type": "stream",
          "name": "stdout",
          "text": [
            "toha sitohang\n"
          ]
        }
      ]
    },
    {
      "cell_type": "code",
      "source": [
        "def my_function(*kids):\n",
        "  print('the youngest child is ' + kids[2])\n",
        "\n",
        "my_function('lekyung', 'jimis', 'tukimin')"
      ],
      "metadata": {
        "colab": {
          "base_uri": "https://localhost:8080/"
        },
        "id": "CP3GCF5L56f_",
        "outputId": "29d29541-078b-48b9-a924-7b30133a9f10"
      },
      "execution_count": null,
      "outputs": [
        {
          "output_type": "stream",
          "name": "stdout",
          "text": [
            "the youngest child is tukimin\n"
          ]
        }
      ]
    },
    {
      "cell_type": "code",
      "source": [
        "def my_function(child3, child2, child1):\n",
        "  print('the youngest child is ' + child3)\n",
        "\n",
        "my_function(child1 = 'lekyung', child2 = 'tukimin', child3 = 'jimin')"
      ],
      "metadata": {
        "colab": {
          "base_uri": "https://localhost:8080/"
        },
        "id": "t3dMhahL60JP",
        "outputId": "d0cc5c57-1645-440d-8d2c-eeecf2b68eec"
      },
      "execution_count": null,
      "outputs": [
        {
          "output_type": "stream",
          "name": "stdout",
          "text": [
            "the youngest child is jimin\n"
          ]
        }
      ]
    },
    {
      "cell_type": "code",
      "source": [
        "def my_function(**kid):\n",
        "  print('his last name is ' + kid['lname'])\n",
        "\n",
        "my_function(fname = 'thanos', lname = 'ireng man')"
      ],
      "metadata": {
        "colab": {
          "base_uri": "https://localhost:8080/"
        },
        "id": "I4i3tz3L7Ttu",
        "outputId": "900d19f5-3750-4a9c-f352-e6b11239fe5b"
      },
      "execution_count": null,
      "outputs": [
        {
          "output_type": "stream",
          "name": "stdout",
          "text": [
            "his last name is ireng man\n"
          ]
        }
      ]
    },
    {
      "cell_type": "code",
      "source": [
        "def my_function(country = 'indonesia'):\n",
        "  print('i am from ' + country)\n",
        "\n",
        "my_function('uea')\n",
        "my_function('arab saudi')\n",
        "my_function()\n",
        "my_function('malaysia')"
      ],
      "metadata": {
        "colab": {
          "base_uri": "https://localhost:8080/"
        },
        "id": "wEqWJJ9X8SP4",
        "outputId": "d7895a95-d6d6-41f6-e676-bfb8442a3c81"
      },
      "execution_count": null,
      "outputs": [
        {
          "output_type": "stream",
          "name": "stdout",
          "text": [
            "i am from uea\n",
            "i am from arab saudi\n",
            "i am from indonesia\n",
            "i am from malaysia\n"
          ]
        }
      ]
    },
    {
      "cell_type": "code",
      "source": [
        "def my_function(food):\n",
        "  for x in food:\n",
        "    print(x)\n",
        "\n",
        "fruits = ['apple', 'banana', 'chery']\n",
        "\n",
        "my_function(fruits)"
      ],
      "metadata": {
        "colab": {
          "base_uri": "https://localhost:8080/"
        },
        "id": "EzAU1noa8sRX",
        "outputId": "b39f0fb1-27b7-4520-e94b-de0a1271c2fc"
      },
      "execution_count": null,
      "outputs": [
        {
          "output_type": "stream",
          "name": "stdout",
          "text": [
            "apple\n",
            "banana\n",
            "chery\n"
          ]
        }
      ]
    },
    {
      "cell_type": "code",
      "source": [
        "def my_function(x):\n",
        "  return 5 * x\n",
        "\n",
        "print(my_function(3))\n",
        "print(my_function(5))\n",
        "print(my_function(9))"
      ],
      "metadata": {
        "colab": {
          "base_uri": "https://localhost:8080/"
        },
        "id": "vMEhX0hY9I2_",
        "outputId": "dc4b5185-9451-4959-cb20-e10be04fb073"
      },
      "execution_count": null,
      "outputs": [
        {
          "output_type": "stream",
          "name": "stdout",
          "text": [
            "15\n",
            "25\n",
            "45\n"
          ]
        }
      ]
    },
    {
      "cell_type": "code",
      "source": [
        "def myfunction():\n",
        "  pass"
      ],
      "metadata": {
        "id": "efqhhFdI9gG7"
      },
      "execution_count": null,
      "outputs": []
    },
    {
      "cell_type": "code",
      "source": [
        "def tri_recursion(k):\n",
        "  if(k>0):\n",
        "    result = k+tri_recursion(k-1)\n",
        "    print(result)\n",
        "  else:\n",
        "    result=0\n",
        "  return result\n",
        "\n",
        "print('\\n\\nrecursion example result')\n",
        "tri_recursion(6)"
      ],
      "metadata": {
        "colab": {
          "base_uri": "https://localhost:8080/"
        },
        "id": "8J02XZwy9nE7",
        "outputId": "354589c3-41eb-4324-ec5d-cf77d8d1a585"
      },
      "execution_count": null,
      "outputs": [
        {
          "output_type": "stream",
          "name": "stdout",
          "text": [
            "\n",
            "\n",
            "recursion example result\n",
            "1\n",
            "3\n",
            "6\n",
            "10\n",
            "15\n",
            "21\n"
          ]
        },
        {
          "output_type": "execute_result",
          "data": {
            "text/plain": [
              "21"
            ]
          },
          "metadata": {},
          "execution_count": 17
        }
      ]
    },
    {
      "cell_type": "code",
      "source": [
        "#Recursion Example\n",
        "def tri_recursion(k):\n",
        "  if(k > 0):\n",
        "    result = k + tri_recursion(k - 1)\n",
        "    print(result)\n",
        "  else:\n",
        "    result = 0\n",
        "  return result\n",
        "\n",
        "print(\"\\n\\nRecursion Example Results\")\n",
        "tri_recursion(6)"
      ],
      "metadata": {
        "colab": {
          "base_uri": "https://localhost:8080/"
        },
        "id": "m_Ulg-HF-f6v",
        "outputId": "e0b0f612-5675-4158-f668-4a988164bd7d"
      },
      "execution_count": null,
      "outputs": [
        {
          "output_type": "stream",
          "name": "stdout",
          "text": [
            "\n",
            "\n",
            "Recursion Example Results\n",
            "1\n",
            "3\n",
            "6\n",
            "10\n",
            "15\n",
            "21\n"
          ]
        },
        {
          "output_type": "execute_result",
          "data": {
            "text/plain": [
              "21"
            ]
          },
          "metadata": {},
          "execution_count": 18
        }
      ]
    },
    {
      "cell_type": "code",
      "source": [
        "#exercise 1\n",
        "def faktorial(n):\n",
        "  if n == 0 or n == 1:\n",
        "    return 1\n",
        "  else:\n",
        "    return n * faktorial(n-1)\n",
        "\n",
        "angka = int(input('masukkan angka: '))\n",
        "print(f'faktorial dari {angka} adalah {faktorial(angka)}')"
      ],
      "metadata": {
        "colab": {
          "base_uri": "https://localhost:8080/"
        },
        "id": "bfDuCAhK-npP",
        "outputId": "07b1c642-dcd9-4e31-b612-2c1283edc63f"
      },
      "execution_count": null,
      "outputs": [
        {
          "output_type": "stream",
          "name": "stdout",
          "text": [
            "masukkan angka: 5\n",
            "faktorial dari 5 adalah 120\n"
          ]
        }
      ]
    },
    {
      "cell_type": "code",
      "source": [
        "#exercise 2\n",
        "def luas_lingkaran(r):\n",
        "  return 3.14 * r * r\n",
        "\n",
        "def luas_persegi(s):\n",
        "  return s * s\n",
        "\n",
        "def luas_segitiga(a, t):\n",
        "  return 0.5 * a * t\n",
        "\n",
        "while True:\n",
        "  print('\\npilih bangun datar: ')\n",
        "  print('1. lingkaran')\n",
        "  print('2. persegi')\n",
        "  print('3. segitiga')\n",
        "  print('4. keluar')\n",
        "\n",
        "  pilihan = input('masukkan pilihan (1/2/3/4)')\n",
        "\n",
        "  if pilihan == '1':\n",
        "    r = float(input('masukkan jari jari: '))\n",
        "    print(f'luas lingkaran adalah: {luas_lingkaran(r)}')\n",
        "  elif pilihan == '2':\n",
        "    s = float(input('masukkan sisi: '))\n",
        "    print(f'luas_persegi adalah: {luas_persegi(s)}')\n",
        "  elif pilihan == '3':\n",
        "    a = float(input('masukkan alas: '))\n",
        "    t = float(input('masukkan tinggi: '))\n",
        "    print(f'luas segitiga adalah: {luas_segitiga(a, t)}')\n",
        "  elif pilihan == '4':\n",
        "    print('program berhenti..')\n",
        "    break\n",
        "  else:\n",
        "    print('kode program tidak valid')\n"
      ],
      "metadata": {
        "colab": {
          "base_uri": "https://localhost:8080/"
        },
        "id": "WIphJ221ASMI",
        "outputId": "8a6a43c2-7526-408a-d83a-bd68037fe37c"
      },
      "execution_count": null,
      "outputs": [
        {
          "output_type": "stream",
          "name": "stdout",
          "text": [
            "\n",
            "pilih bangun datar: \n",
            "1. lingkaran\n",
            "2. persegi\n",
            "3. segitiga\n",
            "4. keluar\n",
            "masukkan pilihan (1/2/3/4)1\n",
            "masukkan jari jari: 7\n",
            "luas lingkaran adalah: 153.86\n",
            "\n",
            "pilih bangun datar: \n",
            "1. lingkaran\n",
            "2. persegi\n",
            "3. segitiga\n",
            "4. keluar\n",
            "masukkan pilihan (1/2/3/4)2\n",
            "masukkan sisi: 4\n",
            "luas_persegi adalah: 16.0\n",
            "\n",
            "pilih bangun datar: \n",
            "1. lingkaran\n",
            "2. persegi\n",
            "3. segitiga\n",
            "4. keluar\n",
            "masukkan pilihan (1/2/3/4)3\n",
            "masukkan alas: 4\n",
            "masukkan tinggi: 6\n",
            "luas segitiga adalah: 12.0\n",
            "\n",
            "pilih bangun datar: \n",
            "1. lingkaran\n",
            "2. persegi\n",
            "3. segitiga\n",
            "4. keluar\n",
            "masukkan pilihan (1/2/3/4)5\n",
            "kode program tidak valid\n",
            "\n",
            "pilih bangun datar: \n",
            "1. lingkaran\n",
            "2. persegi\n",
            "3. segitiga\n",
            "4. keluar\n",
            "masukkan pilihan (1/2/3/4)4\n",
            "program berhenti..\n"
          ]
        }
      ]
    },
    {
      "cell_type": "code",
      "source": [],
      "metadata": {
        "id": "UvraRRojFHf5"
      },
      "execution_count": null,
      "outputs": []
    }
  ]
}