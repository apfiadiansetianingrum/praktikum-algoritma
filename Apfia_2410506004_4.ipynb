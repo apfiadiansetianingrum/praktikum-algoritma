{
  "nbformat": 4,
  "nbformat_minor": 0,
  "metadata": {
    "colab": {
      "provenance": [],
      "authorship_tag": "ABX9TyPjnLGxhof42LrDk/wUiP9e",
      "include_colab_link": true
    },
    "kernelspec": {
      "name": "python3",
      "display_name": "Python 3"
    },
    "language_info": {
      "name": "python"
    }
  },
  "cells": [
    {
      "cell_type": "markdown",
      "metadata": {
        "id": "view-in-github",
        "colab_type": "text"
      },
      "source": [
        "<a href=\"https://colab.research.google.com/github/apfiadiansetianingrum/praktikum-algoritma/blob/master/Apfia_2410506004_4.ipynb\" target=\"_parent\"><img src=\"https://colab.research.google.com/assets/colab-badge.svg\" alt=\"Open In Colab\"/></a>"
      ]
    },
    {
      "cell_type": "code",
      "source": [
        "#tugas 1\n",
        "\n",
        "#input umur\n",
        "umur = 18\n",
        "\n",
        "if(umur >=17):\n",
        "  print(\"boleh membuat sim\")\n",
        "else:\n",
        "  print(\"tidak boleh membuat sim\")"
      ],
      "metadata": {
        "colab": {
          "base_uri": "https://localhost:8080/"
        },
        "id": "MMQl3o6Tstvl",
        "outputId": "f74f8cf2-f3bf-4324-99ca-aa3f5da3ea2f"
      },
      "execution_count": null,
      "outputs": [
        {
          "output_type": "stream",
          "name": "stdout",
          "text": [
            "boleh membuat sim\n"
          ]
        }
      ]
    },
    {
      "cell_type": "code",
      "source": [
        "#tugas 2\n",
        "\n",
        "#input nilai\n",
        "nilai = 78\n",
        "\n",
        "if(nilai >=90):\n",
        "  print(\"grade A\")\n",
        "elif(nilai >=80):\n",
        "  print(\"grade B+\")\n",
        "elif(nilai >=70):\n",
        "  print(\"grade B\")\n",
        "elif(nilai >=60):\n",
        "  print(\"grade C+\")\n",
        "elif(nilai >=50):\n",
        "  print(\"grade C\")\n",
        "elif(nilai >=40):\n",
        "  print(\"grade D\")\n",
        "else:\n",
        "  print(\"grade E\")\n"
      ],
      "metadata": {
        "colab": {
          "base_uri": "https://localhost:8080/"
        },
        "id": "AC9jG7JBuJUo",
        "outputId": "5d5a3cb3-6f28-497e-e05e-f34d50639b9f"
      },
      "execution_count": null,
      "outputs": [
        {
          "output_type": "stream",
          "name": "stdout",
          "text": [
            "grade B\n"
          ]
        }
      ]
    },
    {
      "cell_type": "code",
      "source": [
        "#tugas 3\n",
        "\n",
        "#input nilai\n",
        "nilai = 78\n",
        "\n",
        "if(nilai >=80.00) and (nilai <=100):\n",
        "  print(\"grade A\")\n",
        "elif(nilai >=77.50) and (nilai <=79.99):\n",
        "  print(\"grade A-\")\n",
        "elif(nilai >=75.00) and (nilai <=77.49):\n",
        "  print(\"grade A/B\")\n",
        "elif(nilai >=72.50) and (nilai <=74.99):\n",
        "  print(\"grade B+\")\n",
        "elif(nilai >=70.00) and (nilai <=72.49):\n",
        "  print(\"grade B\")\n",
        "elif(nilai >=67.50) and (nilai <=69.99):\n",
        "  print(\"grade B-\")\n",
        "elif(nilai >=65.00) and (nilai <=67.49):\n",
        "  print(\"grade B/C\")\n",
        "elif(nilai >=62.50) and (nilai <=64.99):\n",
        "  print(\"grade C+\")\n",
        "elif(nilai >=60.00) and (nilai <=62.49):\n",
        "  print(\"grade C\")\n",
        "elif(nilai >=55.00) and (nilai <=59.99):\n",
        "  print(\"grade C-\")\n",
        "elif(nilai >=50.00) and (nilai <=54.99):\n",
        "  print(\"grade C/D\")\n",
        "elif(nilai >=45.00) and (nilai <=49.99):\n",
        "  print(\"grade D+\")\n",
        "elif(nilai >=40.00) and (nilai <=44.99):\n",
        "  print(\"grade D\")\n",
        "else:\n",
        "  print(\"grade E\")\n"
      ],
      "metadata": {
        "colab": {
          "base_uri": "https://localhost:8080/"
        },
        "id": "s-aP4DpTvoBG",
        "outputId": "e50b104b-59ba-4f33-a90f-92e13e6409e6"
      },
      "execution_count": null,
      "outputs": [
        {
          "output_type": "stream",
          "name": "stdout",
          "text": [
            "grade A-\n"
          ]
        }
      ]
    },
    {
      "cell_type": "code",
      "source": [],
      "metadata": {
        "id": "AbRzO8IH01Jt"
      },
      "execution_count": null,
      "outputs": []
    }
  ]
}