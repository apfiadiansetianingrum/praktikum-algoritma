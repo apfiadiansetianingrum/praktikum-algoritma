{
  "nbformat": 4,
  "nbformat_minor": 0,
  "metadata": {
    "colab": {
      "provenance": [],
      "authorship_tag": "ABX9TyPT9SgPj2t/ejhxm+z0SKP0",
      "include_colab_link": true
    },
    "kernelspec": {
      "name": "python3",
      "display_name": "Python 3"
    },
    "language_info": {
      "name": "python"
    }
  },
  "cells": [
    {
      "cell_type": "markdown",
      "metadata": {
        "id": "view-in-github",
        "colab_type": "text"
      },
      "source": [
        "<a href=\"https://colab.research.google.com/github/apfiadiansetianingrum/praktikum-algoritma/blob/master/Apfia_2410506004_2.ipynb\" target=\"_parent\"><img src=\"https://colab.research.google.com/assets/colab-badge.svg\" alt=\"Open In Colab\"/></a>"
      ]
    },
    {
      "cell_type": "code",
      "source": [
        "#Mendefinisikan variabel\n",
        "panjang = 20.5\n",
        "lebar = 25\n",
        "tinggi = 10\n",
        "\n",
        "#Menghitung keliling, luas, dan volume\n",
        "keliling = 2 * (panjang + lebar)\n",
        "luas = panjang * lebar\n",
        "volume = panjang * lebar * tinggi\n",
        "\n",
        "#Menampilkan hasil\n",
        "print(\"Panjang = \" + str(panjang))\n",
        "print(\"Lebar = \" + str(lebar))\n",
        "print(\"Tinggi = \" + str(tinggi))\n",
        "print(\"Keliling = \" + str(keliling))\n",
        "print(\"Luas = \" + str(luas))\n",
        "print(\"Volume = \" + str(volume))"
      ],
      "metadata": {
        "id": "MOeP0Z_dhINx",
        "colab": {
          "base_uri": "https://localhost:8080/"
        },
        "outputId": "9acfadc1-4356-4fb2-9348-9d893d1dd0e0"
      },
      "execution_count": null,
      "outputs": [
        {
          "output_type": "stream",
          "name": "stdout",
          "text": [
            "Panjang = 20.5\n",
            "Lebar = 25\n",
            "Tinggi = 10\n",
            "Keliling = 91.0\n",
            "Luas = 512.5\n",
            "Volume = 5125.0\n"
          ]
        }
      ]
    },
    {
      "cell_type": "code",
      "source": [
        "# Data mahasiswa\n",
        "nama_mahasiswa = [\"shafira\", \"amanda\", \"aditya\", \"nedia\", \"widya\", \"hanif\", \"andi\", \"dhanar\", \"hikma\"]\n",
        "\n",
        "# Data nilai\n",
        "nilai_kalkulus = [85, 80, 75, 95, 85, 75, 70, 85, 80]\n",
        "nilai_statistika = [75, 90, 80, 80, 85, 90, 75, 85, 75]\n",
        "\n",
        "# Menggunakan dictionary untuk memudahkan akses data\n",
        "data_nilai = {\n",
        "    \"shafira\": {\"kalkulus\": nilai_kalkulus[0], \"statistika\": nilai_statistika[0]},\n",
        "    \"amanda\": {\"kalkulus\": nilai_kalkulus[1], \"statistika\": nilai_statistika[1]},\n",
        "    \"aditya\": {\"kalkulus\": nilai_kalkulus[2], \"statistika\": nilai_statistika[2]},\n",
        "    \"nedia\": {\"kalkulus\": nilai_kalkulus[3], \"statistika\": nilai_statistika[3]},\n",
        "    \"widya\": {\"kalkulus\": nilai_kalkulus[4], \"statistika\": nilai_statistika[4]},\n",
        "    \"hanif\": {\"kalkulus\": nilai_kalkulus[5], \"statistika\": nilai_statistika[5]},\n",
        "    \"andi\": {\"kalkulus\": nilai_kalkulus[6], \"statistika\": nilai_statistika[6]},\n",
        "    \"dhanar\": {\"kalkulus\": nilai_kalkulus[7], \"statistika\": nilai_statistika[7]},\n",
        "    \"hikma\": {\"kalkulus\": nilai_kalkulus[8], \"statistika\": nilai_statistika[8]},\n",
        "}\n",
        "\n",
        "# 1. Rata-rata nilai Shafira pada kedua mata kuliah\n",
        "shafira_kalkulus = data_nilai[\"shafira\"][\"kalkulus\"]\n",
        "shafira_statistika = data_nilai[\"shafira\"][\"statistika\"]\n",
        "rata_rata_shafira = (shafira_kalkulus + shafira_statistika) / 2\n",
        "\n",
        "# 2. Jumlah nilai Hanif dan Andi untuk semua mata kuliah\n",
        "hanif_total = data_nilai[\"hanif\"][\"kalkulus\"] + data_nilai[\"hanif\"][\"statistika\"]\n",
        "andi_total = data_nilai[\"andi\"][\"kalkulus\"] + data_nilai[\"andi\"][\"statistika\"]\n",
        "jumlah_hanif_andi = hanif_total + andi_total\n",
        "\n",
        "# 3. Rata-rata nilai Widya, Dhanar, Hikma, dan Nedia pada masing-masing mata kuliah\n",
        "widya_kalkulus = data_nilai[\"widya\"][\"kalkulus\"]\n",
        "widya_statistika = data_nilai[\"widya\"][\"statistika\"]\n",
        "dhanar_kalkulus = data_nilai[\"dhanar\"][\"kalkulus\"]\n",
        "dhanar_statistika = data_nilai[\"dhanar\"][\"statistika\"]\n",
        "hikma_kalkulus = data_nilai[\"hikma\"][\"kalkulus\"]\n",
        "hikma_statistika = data_nilai[\"hikma\"][\"statistika\"]\n",
        "nedia_kalkulus = data_nilai[\"nedia\"][\"kalkulus\"]\n",
        "nedia_statistika = data_nilai[\"nedia\"][\"statistika\"]\n",
        "\n",
        "rata_rata_kalkulus = (widya_kalkulus + dhanar_kalkulus + hikma_kalkulus + nedia_kalkulus) / 4\n",
        "rata_rata_statistika = (widya_statistika + dhanar_statistika + hikma_statistika + nedia_statistika) / 4\n",
        "\n",
        "# 4. Rata-rata nilai mata kuliah Kalkulus 1 untuk semua mahasiswa\n",
        "rata_rata_kalkulus_all = sum(nilai_kalkulus) / len(nilai_kalkulus)\n",
        "\n",
        "# 5. Rata-rata nilai mata kuliah Metode Statistika untuk semua mahasiswa\n",
        "rata_rata_statistika_all = sum(nilai_statistika) / len(nilai_statistika)\n",
        "\n",
        "# Menampilkan hasil\n",
        "print(\"1. Rata-rata nilai Shafira pada kedua mata kuliah: {:.2f}\".format(rata_rata_shafira))\n",
        "print(\"2. Jumlah nilai Hanif dan Andi untuk semua mata kuliah: {}\".format(jumlah_hanif_andi))\n",
        "print(\"3. Rata-rata nilai Widya, Dhanar, Hikma dan Nedia pada mata kuliah Kalkulus 1: {:.2f}\".format(rata_rata_kalkulus))\n",
        "print(\"   Rata-rata nilai Widya, Dhanar, Hikma dan Nedia pada mata kuliah Statistika: {:.2f}\".format(rata_rata_statistika))\n",
        "print(\"4. Rata-rata nilai mata kuliah Kalkulus 1 untuk semua mahasiswa: {:.2f}\".format(rata_rata_kalkulus_all))\n",
        "print(\"5. Rata-rata nilai mata kuliah Statistika untuk semua mahasiswa: {:.2f}\".format(rata_rata_statistika_all))"
      ],
      "metadata": {
        "colab": {
          "base_uri": "https://localhost:8080/"
        },
        "id": "mKi1G9NqZTtB",
        "outputId": "e58760ca-d7a2-4cec-9b19-e14580c32d44"
      },
      "execution_count": null,
      "outputs": [
        {
          "output_type": "stream",
          "name": "stdout",
          "text": [
            "1. Rata-rata nilai Shafira pada kedua mata kuliah: 80.00\n",
            "2. Jumlah nilai Hanif dan Andi untuk semua mata kuliah: 310\n",
            "3. Rata-rata nilai Widya, Dhanar, Hikma dan Nedia pada mata kuliah Kalkulus 1: 86.25\n",
            "   Rata-rata nilai Widya, Dhanar, Hikma dan Nedia pada mata kuliah Statistika: 81.25\n",
            "4. Rata-rata nilai mata kuliah Kalkulus 1 untuk semua mahasiswa: 81.11\n",
            "5. Rata-rata nilai mata kuliah Statistika untuk semua mahasiswa: 81.67\n"
          ]
        }
      ]
    },
    {
      "cell_type": "code",
      "source": [
        "import calendar\n",
        "\n",
        "# Data karyawan\n",
        "jam_kerja_per_hari = 8\n",
        "hari_kerja_per_bulan = 31\n",
        "hari_tidak_masuk = 3\n",
        "upah_per_jam = 30000\n",
        "tunjangan_persen = 0.10\n",
        "jam_lembur = 5\n",
        "upah_lembur_per_jam = 10000\n",
        "\n",
        "# Bulan Agustus\n",
        "bulan = 8\n",
        "tahun = 2024  # Tahun untuk menentukan kalender\n",
        "\n",
        "# Hitung jumlah hari Minggu di bulan Agustus\n",
        "jumlah_hari_minggu = sum(1 for day in calendar.monthcalendar(tahun, bulan) if day[calendar.SUNDAY] != 0)\n",
        "\n",
        "# Hitung jumlah hari kerja efektif\n",
        "hari_kerja_efektif = hari_kerja_per_bulan - hari_tidak_masuk - jumlah_hari_minggu\n",
        "\n",
        "# 1. Hitung gaji pada bulan Agustus\n",
        "gaji_bulanan = hari_kerja_efektif * jam_kerja_per_hari * upah_per_jam\n",
        "\n",
        "# 2. Hitung tunjangan\n",
        "# Dwi telah bekerja selama 10 tahun, jadi memenuhi syarat tunjangan\n",
        "tunjangan = gaji_bulanan * tunjangan_persen\n",
        "\n",
        "# 3. Hitung gaji total dengan lembur\n",
        "gaji_dengan_lembur = gaji_bulanan + (jam_lembur * upah_lembur_per_jam)\n",
        "\n",
        "# Menampilkan hasil\n",
        "print(\"1. Gaji pada bulan Agustus jika Dwi tidak masuk kerja selama 3 hari dan hari Minggu: Rp {:,}\".format(gaji_bulanan))\n",
        "print(\"2. Jumlah tunjangan yang diterima oleh Dwi pada bulan Agustus: Rp {:,}\".format(tunjangan))\n",
        "print(\"3. Gaji total yang diterima oleh Dwi pada bulan Agustus termasuk lembur: Rp {:,}\".format(gaji_dengan_lembur))"
      ],
      "metadata": {
        "colab": {
          "base_uri": "https://localhost:8080/"
        },
        "id": "ixMHuojxroR3",
        "outputId": "7c9e6478-665e-4893-9317-ee035a3569b3"
      },
      "execution_count": null,
      "outputs": [
        {
          "output_type": "stream",
          "name": "stdout",
          "text": [
            "1. Gaji pada bulan Agustus jika Dwi tidak masuk kerja selama 3 hari dan hari Minggu: Rp 5,760,000\n",
            "2. Jumlah tunjangan yang diterima oleh Dwi pada bulan Agustus: Rp 576,000.0\n",
            "3. Gaji total yang diterima oleh Dwi pada bulan Agustus termasuk lembur: Rp 5,810,000\n"
          ]
        }
      ]
    }
  ]
}