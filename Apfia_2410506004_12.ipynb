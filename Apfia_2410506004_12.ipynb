{
  "nbformat": 4,
  "nbformat_minor": 0,
  "metadata": {
    "colab": {
      "provenance": [],
      "authorship_tag": "ABX9TyN5dXs3eDx6O/sbc5/9QDw+",
      "include_colab_link": true
    },
    "kernelspec": {
      "name": "python3",
      "display_name": "Python 3"
    },
    "language_info": {
      "name": "python"
    }
  },
  "cells": [
    {
      "cell_type": "markdown",
      "metadata": {
        "id": "view-in-github",
        "colab_type": "text"
      },
      "source": [
        "<a href=\"https://colab.research.google.com/github/apfiadiansetianingrum/praktikum-algoritma/blob/master/Apfia_2410506004_12.ipynb\" target=\"_parent\"><img src=\"https://colab.research.google.com/assets/colab-badge.svg\" alt=\"Open In Colab\"/></a>"
      ]
    },
    {
      "cell_type": "code",
      "execution_count": null,
      "metadata": {
        "colab": {
          "base_uri": "https://localhost:8080/",
          "height": 141
        },
        "id": "ZRKdXBLiAIL1",
        "outputId": "d61b68e0-5c49-4894-da5c-1d9d7687d71d"
      },
      "outputs": [
        {
          "output_type": "error",
          "ename": "NameError",
          "evalue": "name 'x' is not defined",
          "traceback": [
            "\u001b[0;31m---------------------------------------------------------------------------\u001b[0m",
            "\u001b[0;31mNameError\u001b[0m                                 Traceback (most recent call last)",
            "\u001b[0;32m<ipython-input-1-fc17d851ef81>\u001b[0m in \u001b[0;36m<cell line: 1>\u001b[0;34m()\u001b[0m\n\u001b[0;32m----> 1\u001b[0;31m \u001b[0mprint\u001b[0m\u001b[0;34m(\u001b[0m\u001b[0mx\u001b[0m\u001b[0;34m)\u001b[0m\u001b[0;34m\u001b[0m\u001b[0;34m\u001b[0m\u001b[0m\n\u001b[0m",
            "\u001b[0;31mNameError\u001b[0m: name 'x' is not defined"
          ]
        }
      ],
      "source": [
        "print(x)"
      ]
    },
    {
      "cell_type": "code",
      "source": [
        "try:\n",
        "  print(x)\n",
        "except:\n",
        "  print(\"variabble 'x' is not defined\")"
      ],
      "metadata": {
        "colab": {
          "base_uri": "https://localhost:8080/"
        },
        "id": "aKI94ROwAdIr",
        "outputId": "de20d71c-4692-483d-86d6-53b6f3f63498"
      },
      "execution_count": null,
      "outputs": [
        {
          "output_type": "stream",
          "name": "stdout",
          "text": [
            "variabble 'x' is not defined\n"
          ]
        }
      ]
    },
    {
      "cell_type": "code",
      "source": [
        "import matematika\n",
        "\n",
        "def input_radius():\n",
        "    while True:\n",
        "        try:\n",
        "            radius = input(\"Masukkan radius lingkaran: \")\n",
        "            if radius == \"\":\n",
        "                raise ValueError(\"Tidak boleh kosong\")\n",
        "            radius = float(radius)\n",
        "            return radius\n",
        "        except ValueError as e:\n",
        "            print(f\"Error: {e}. Silakan masukkan angka yang valid.\")\n",
        "\n",
        "def input_sisi():\n",
        "    while True:\n",
        "        try:\n",
        "            sisi = input(\"Masukkan panjang sisi persegi: \")\n",
        "            if sisi == \"\":\n",
        "                raise ValueError(\"Tidak boleh kosong\")\n",
        "            sisi = float(sisi)\n",
        "            return sisi\n",
        "        except ValueError as e:\n",
        "            print(f\"Error: {e}. Silakan masukkan angka yang valid.\")\n",
        "\n",
        "radius = input_radius()\n",
        "luas_lingkaran = matematika.luas_lingkaran(radius)\n",
        "print(f\"Luas lingkaran dengan radius {radius} adalah {luas_lingkaran}\")\n",
        "\n",
        "sisi = input_sisi()\n",
        "luas_persegi = matematika.luas_persegi(sisi)\n",
        "print(f\"Luas persegi dengan sisi {sisi} adalah {luas_persegi}\")\n"
      ],
      "metadata": {
        "colab": {
          "base_uri": "https://localhost:8080/"
        },
        "id": "_xAgAfWfAqyS",
        "outputId": "7ef8e715-7d1b-4903-b554-8be19dfd0756"
      },
      "execution_count": null,
      "outputs": [
        {
          "output_type": "stream",
          "name": "stdout",
          "text": [
            "Masukkan radius lingkaran: 7\n",
            "Luas lingkaran dengan radius 7.0 adalah 153.93804002589985\n",
            "Masukkan panjang sisi persegi: p\n",
            "Error: could not convert string to float: 'p'. Silakan masukkan angka yang valid.\n",
            "Masukkan panjang sisi persegi: \n",
            "Error: Tidak boleh kosong. Silakan masukkan angka yang valid.\n",
            "Masukkan panjang sisi persegi: 8\n",
            "Luas persegi dengan sisi 8.0 adalah 64.0\n"
          ]
        }
      ]
    },
    {
      "cell_type": "code",
      "source": [
        "try:\n",
        "    npm = input('Masukkan NPM anda: ')\n",
        "\n",
        "    if not npm.isdigit():\n",
        "        raise ValueError(\"NPM harus berupa angka.\")\n",
        "\n",
        "    jumlah_genap = 0\n",
        "    jumlah_ganjil = 0\n",
        "\n",
        "    for angka in npm:\n",
        "        if int(angka) % 2 == 0:\n",
        "            jumlah_genap += 1\n",
        "        else:\n",
        "            jumlah_ganjil += 1\n",
        "\n",
        "    print(f'Jumlah angka genap: {jumlah_genap}')\n",
        "    print(f'Jumlah angka ganjil: {jumlah_ganjil}')\n",
        "\n",
        "except ValueError as e:\n",
        "    print(f\"Terjadi kesalahan: {e}\")\n",
        "\n",
        "except Exception as e:\n",
        "    print(f\"Kesalahan tidak terduga: {e}\")\n"
      ],
      "metadata": {
        "id": "peUVzYLeNi3q",
        "colab": {
          "base_uri": "https://localhost:8080/"
        },
        "outputId": "1f7df4c0-0144-4185-ddce-da7fe6f53098"
      },
      "execution_count": 8,
      "outputs": [
        {
          "output_type": "stream",
          "name": "stdout",
          "text": [
            "Masukkan NPM anda: 12345678\n",
            "Jumlah angka genap: 4\n",
            "Jumlah angka ganjil: 4\n"
          ]
        }
      ]
    }
  ]
}